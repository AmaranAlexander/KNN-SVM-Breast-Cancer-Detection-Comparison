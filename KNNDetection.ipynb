{
  "nbformat": 4,
  "nbformat_minor": 0,
  "metadata": {
    "colab": {
      "provenance": []
    },
    "kernelspec": {
      "name": "python3",
      "display_name": "Python 3"
    },
    "language_info": {
      "name": "python"
    }
  },
  "cells": [
    {
      "cell_type": "code",
      "source": [],
      "metadata": {
        "id": "IiQ5DiXJte8K"
      },
      "execution_count": null,
      "outputs": []
    },
    {
      "cell_type": "code",
      "execution_count": 1,
      "metadata": {
        "colab": {
          "base_uri": "https://localhost:8080/"
        },
        "id": "qU3Gqf6t1sys",
        "outputId": "fb7cb563-b54b-4295-ee1f-72c0bb4f77a1"
      },
      "outputs": [
        {
          "output_type": "stream",
          "name": "stdout",
          "text": [
            "0.9298245614035088\n"
          ]
        }
      ],
      "source": [
        "import sklearn\n",
        "from sklearn import datasets\n",
        "from sklearn import svm\n",
        "from sklearn import metrics\n",
        "from sklearn.neighbors import KNeighborsClassifier\n",
        "\n",
        "bc = datasets.load_breast_cancer()\n",
        "\n",
        "x = bc.data\n",
        "y = bc.target\n",
        "\n",
        "x_train, x_test, y_train, y_test = sklearn.model_selection.train_test_split(x, y, test_size=0.2)\n",
        "\n",
        "\n",
        "classifier = KNeighborsClassifier(n_neighbors=6)\n",
        "classifier.fit(x_train, y_train)\n",
        "\n",
        "y_prediction = classifier.predict(x_test)\n",
        "\n",
        "acc = metrics.accuracy_score(y_test, y_prediction)\n",
        "\n",
        "print(acc)"
      ]
    }
  ]
}